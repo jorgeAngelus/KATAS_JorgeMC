{
 "cells": [
  {
   "cell_type": "code",
   "execution_count": 14,
   "metadata": {},
   "outputs": [],
   "source": [
    "def water_left(astronautas,water_left,days_left):\n",
    "    for argument in[astronautas,water_left,days_left]:\n",
    "        try:\n",
    "            argument/10\n",
    "        except (TypeError,NameError):\n",
    "            raise TypeError(f\"Todos los argumentos deben ser de tipo entero, pero se recibio: '{argument}'\")\n",
    "    uso_diario = astronautas *11\n",
    "    uso_total = uso_diario * days_left\n",
    "    resto_agua = water_left - uso_total\n",
    "    if resto_agua < 0:\n",
    "        raise RuntimeError(f\"No hay suficiente agua para {astronautas} astronautas después de  {days_left} días\")\n",
    "    return f\"Total del resto de agua después de {days_left} días es : {resto_agua} litros\" "
   ]
  },
  {
   "cell_type": "code",
   "execution_count": 24,
   "metadata": {},
   "outputs": [
    {
     "ename": "TypeError",
     "evalue": "Todos los argumentos deben ser de tipo entero, pero se recibio: 'None'",
     "output_type": "error",
     "traceback": [
      "\u001b[1;31m---------------------------------------------------------------------------\u001b[0m",
      "\u001b[1;31mTypeError\u001b[0m                                 Traceback (most recent call last)",
      "\u001b[1;32md:\\LAUNCH X\\Módulo 10 - Manejo de errores\\Open.ipynb Cell 1'\u001b[0m in \u001b[0;36mwater_left\u001b[1;34m(astronautas, water_left, days_left)\u001b[0m\n\u001b[0;32m      <a href='vscode-notebook-cell:/d%3A/LAUNCH%20X/M%C3%B3dulo%2010%20-%20Manejo%20de%20errores/Open.ipynb#ch0000004?line=2'>3</a>\u001b[0m \u001b[39mtry\u001b[39;00m:\n\u001b[1;32m----> <a href='vscode-notebook-cell:/d%3A/LAUNCH%20X/M%C3%B3dulo%2010%20-%20Manejo%20de%20errores/Open.ipynb#ch0000004?line=3'>4</a>\u001b[0m     argument\u001b[39m/\u001b[39;49m\u001b[39m10\u001b[39;49m\n\u001b[0;32m      <a href='vscode-notebook-cell:/d%3A/LAUNCH%20X/M%C3%B3dulo%2010%20-%20Manejo%20de%20errores/Open.ipynb#ch0000004?line=4'>5</a>\u001b[0m \u001b[39mexcept\u001b[39;00m (\u001b[39mTypeError\u001b[39;00m,\u001b[39mNameError\u001b[39;00m):\n",
      "\u001b[1;31mTypeError\u001b[0m: unsupported operand type(s) for /: 'NoneType' and 'int'",
      "\nDuring handling of the above exception, another exception occurred:\n",
      "\u001b[1;31mTypeError\u001b[0m                                 Traceback (most recent call last)",
      "\u001b[1;32md:\\LAUNCH X\\Módulo 10 - Manejo de errores\\Open.ipynb Cell 2'\u001b[0m in \u001b[0;36m<module>\u001b[1;34m\u001b[0m\n\u001b[1;32m----> <a href='vscode-notebook-cell:/d%3A/LAUNCH%20X/M%C3%B3dulo%2010%20-%20Manejo%20de%20errores/Open.ipynb#ch0000005?line=0'>1</a>\u001b[0m water_left(\u001b[39m5\u001b[39;49m,\u001b[39m200\u001b[39;49m,\u001b[39mNone\u001b[39;49;00m)\n",
      "\u001b[1;32md:\\LAUNCH X\\Módulo 10 - Manejo de errores\\Open.ipynb Cell 1'\u001b[0m in \u001b[0;36mwater_left\u001b[1;34m(astronautas, water_left, days_left)\u001b[0m\n\u001b[0;32m      <a href='vscode-notebook-cell:/d%3A/LAUNCH%20X/M%C3%B3dulo%2010%20-%20Manejo%20de%20errores/Open.ipynb#ch0000004?line=3'>4</a>\u001b[0m         argument\u001b[39m/\u001b[39m\u001b[39m10\u001b[39m\n\u001b[0;32m      <a href='vscode-notebook-cell:/d%3A/LAUNCH%20X/M%C3%B3dulo%2010%20-%20Manejo%20de%20errores/Open.ipynb#ch0000004?line=4'>5</a>\u001b[0m     \u001b[39mexcept\u001b[39;00m (\u001b[39mTypeError\u001b[39;00m,\u001b[39mNameError\u001b[39;00m):\n\u001b[1;32m----> <a href='vscode-notebook-cell:/d%3A/LAUNCH%20X/M%C3%B3dulo%2010%20-%20Manejo%20de%20errores/Open.ipynb#ch0000004?line=5'>6</a>\u001b[0m         \u001b[39mraise\u001b[39;00m \u001b[39mTypeError\u001b[39;00m(\u001b[39mf\u001b[39m\u001b[39m\"\u001b[39m\u001b[39mTodos los argumentos deben ser de tipo entero, pero se recibio: \u001b[39m\u001b[39m'\u001b[39m\u001b[39m{\u001b[39;00margument\u001b[39m}\u001b[39;00m\u001b[39m'\u001b[39m\u001b[39m\"\u001b[39m)\n\u001b[0;32m      <a href='vscode-notebook-cell:/d%3A/LAUNCH%20X/M%C3%B3dulo%2010%20-%20Manejo%20de%20errores/Open.ipynb#ch0000004?line=6'>7</a>\u001b[0m uso_diario \u001b[39m=\u001b[39m astronautas \u001b[39m*\u001b[39m\u001b[39m11\u001b[39m\n\u001b[0;32m      <a href='vscode-notebook-cell:/d%3A/LAUNCH%20X/M%C3%B3dulo%2010%20-%20Manejo%20de%20errores/Open.ipynb#ch0000004?line=7'>8</a>\u001b[0m uso_total \u001b[39m=\u001b[39m uso_diario \u001b[39m*\u001b[39m days_left\n",
      "\u001b[1;31mTypeError\u001b[0m: Todos los argumentos deben ser de tipo entero, pero se recibio: 'None'"
     ]
    }
   ],
   "source": [
    "water_left(5,200,None)\n"
   ]
  }
 ],
 "metadata": {
  "interpreter": {
   "hash": "75b12adf1da8dd8e5382fc9a9c857a52e7ea323653162cec2caeb002a2138155"
  },
  "kernelspec": {
   "display_name": "Python 3.10.2 64-bit (windows store)",
   "language": "python",
   "name": "python3"
  },
  "language_info": {
   "codemirror_mode": {
    "name": "ipython",
    "version": 3
   },
   "file_extension": ".py",
   "mimetype": "text/x-python",
   "name": "python",
   "nbconvert_exporter": "python",
   "pygments_lexer": "ipython3",
   "version": "3.10.2"
  },
  "orig_nbformat": 4
 },
 "nbformat": 4,
 "nbformat_minor": 2
}
